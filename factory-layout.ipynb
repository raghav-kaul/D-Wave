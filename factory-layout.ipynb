{
 "cells": [
  {
   "cell_type": "code",
   "execution_count": 64,
   "metadata": {},
   "outputs": [],
   "source": [
    "import time\n",
    "start = time.time()\n",
    "from dimod import BinaryQuadraticModel\n",
    "from dwave.system import LeapHybridSampler, EmbeddingComposite,DWaveSampler \n",
    "import pandas as pd\n",
    "import numpy as np\n",
    "import seaborn as sns\n",
    "from distance_matrix_creator import *\n",
    "import neal"
   ]
  },
  {
   "cell_type": "code",
   "execution_count": 65,
   "metadata": {},
   "outputs": [
    {
     "name": "stdout",
     "output_type": "stream",
     "text": [
      "[[412.  32.   0.   0.   0.   0.   0.   0.   0.   0.   0.   0.   0.]\n",
      " [  0. 412.  32.  32.  32.   1.   1.   4.   0.   4.   4.   1.   4.]\n",
      " [  0.   0. 412.   4.  13.   1.   0.   0.   0.   0.   0.  -1.   0.]\n",
      " [  0.   0.   0. 412.   1.  13.   0.   4.   0.   0.   0.  -1.   0.]\n",
      " [  0.   0.   0.   0. 412.   4.  13.   1.   0.   0.   0.  -1.   0.]\n",
      " [  0.   0.   0.   0.   0. 412.   1.  13.   0.   1.   0.  -1.   0.]\n",
      " [  0.   0.   0.   0.   0.   0. 412.   4.  13.   1.   0.   0.   0.]\n",
      " [  0.   0.   0.   0.   0.   0.   0. 412.  13.   1.   1.   0.   0.]\n",
      " [  0.   0.   0.   0.   0.   0.   0.   0. 412.  13.  13.   1.   1.]\n",
      " [  0.   0.   0.   0.   0.   0.   0.   0.   0. 412.   4.   1.   4.]\n",
      " [  0.   0.   0.   0.   0.   0.   0.   0.   0.   0. 412.   1.   4.]\n",
      " [  0.   0.   0.   0.   0.   0.   0.   0.   0.   0.   0. 412.   1.]\n",
      " [  0.   0.   0.   0.   0.   0.   0.   0.   0.   0.   0.   0. 412.]]\n",
      "[[ 0.          1.          2.         ... 10.         10.63014581\n",
      "  11.3137085 ]\n",
      " [ 0.          0.          1.         ...  9.43398113 10.\n",
      "  10.63014581]\n",
      " [ 0.          0.          0.         ...  8.94427191  9.43398113\n",
      "  10.        ]\n",
      " ...\n",
      " [ 0.          0.          0.         ...  0.          1.\n",
      "   2.        ]\n",
      " [ 0.          0.          0.         ...  0.          0.\n",
      "   1.        ]\n",
      " [ 0.          0.          0.         ...  0.          0.\n",
      "   0.        ]]\n",
      "(81, 81)\n",
      "Facilities =  [0, 1, 2, 3, 4, 5, 6, 7, 8, 9, 10, 11, 12]\n",
      "Positions =  [0, 1, 2, 3, 4, 5, 6, 7, 8, 9, 10, 11, 12, 13, 14, 15, 16, 17, 18, 19, 20, 21, 22, 23, 24, 25, 26, 27, 28, 29, 30, 31, 32, 33, 34, 35, 36, 37, 38, 39, 40, 41, 42, 43, 44, 45, 46, 47, 48, 49, 50, 51, 52, 53, 54, 55, 56, 57, 58, 59, 60, 61, 62, 63, 64, 65, 66, 67, 68, 69, 70, 71, 72, 73, 74, 75, 76, 77, 78, 79, 80]\n"
     ]
    }
   ],
   "source": [
    "flow = pd.read_csv(\"flowmatrix.csv\", header = None)\n",
    "flow = (flow.to_numpy()/3)**5\n",
    "flow = np.round(flow)\n",
    "flow = np.triu(flow)\n",
    "print(flow)\n",
    "\n",
    "\n",
    "distance = distmatrix(9,9)\n",
    "distance = np.triu(np.array(distance))\n",
    "print(distance)\n",
    "print(np.shape(distance))\n",
    "\n",
    "\n",
    "Nfacil = 13\n",
    "matrL = 9\n",
    "positions = []\n",
    "facilities = [i for i in range(Nfacil)]\n",
    "positions = [i for i in range(matrL**2)]\n",
    "\n",
    "print(\"Facilities = \", facilities)\n",
    "print(\"Positions = \",positions)\n",
    "\n",
    "facility_size = [10,4,7,4,2,1,14,2,14,3,1,3,2]"
   ]
  },
  {
   "attachments": {},
   "cell_type": "markdown",
   "metadata": {},
   "source": [
    "#Building a variable for each Machine"
   ]
  },
  {
   "cell_type": "code",
   "execution_count": 66,
   "metadata": {},
   "outputs": [],
   "source": [
    "x = []\n",
    "for f in facilities:\n",
    "    x.append([f'F{f}P{p}' for p in positions])\n",
    "# print(np.array(x))"
   ]
  },
  {
   "attachments": {},
   "cell_type": "markdown",
   "metadata": {},
   "source": [
    "#Initialise BQM"
   ]
  },
  {
   "cell_type": "code",
   "execution_count": 67,
   "metadata": {},
   "outputs": [],
   "source": [
    "bqm = BinaryQuadraticModel('BINARY')\n"
   ]
  },
  {
   "attachments": {},
   "cell_type": "markdown",
   "metadata": {},
   "source": [
    "#Objective function"
   ]
  },
  {
   "cell_type": "code",
   "execution_count": 68,
   "metadata": {},
   "outputs": [],
   "source": [
    "for f in range(len(facilities)):\n",
    "    for f1 in range(f+1,len(facilities)):     \n",
    "        for p in range(len(positions)):\n",
    "            for p1 in range(p+1,len(positions)):\n",
    "                bqm.add_quadratic(x[f][p],x[f1][p1],distance[p][p1]*flow[f][f1]*4.5)"
   ]
  },
  {
   "attachments": {},
   "cell_type": "markdown",
   "metadata": {},
   "source": [
    "#constraint 1: only 1 machine is placed per position"
   ]
  },
  {
   "cell_type": "code",
   "execution_count": 69,
   "metadata": {},
   "outputs": [],
   "source": [
    "for p in positions:\n",
    "    c1 = [(x[f][p],1) for f in facilities]\n",
    "    bqm.add_linear_inequality_constraint(\n",
    "        c1,\n",
    "        ub = 1,\n",
    "        lb = 0,\n",
    "        lagrange_multiplier=200,\n",
    "        label = 'c1_posi_' + str(p),\n",
    "    )"
   ]
  },
  {
   "attachments": {},
   "cell_type": "markdown",
   "metadata": {},
   "source": [
    "#Constraint 2: only 1 position is chosen per facility"
   ]
  },
  {
   "cell_type": "code",
   "execution_count": 70,
   "metadata": {},
   "outputs": [],
   "source": [
    "\n",
    "for f in facilities:\n",
    "    c2 = [(x[f][p],1) for p in positions]\n",
    "    bqm.add_linear_equality_constraint(\n",
    "        c2,\n",
    "        constant=-1*facility_size[f],\n",
    "        lagrange_multiplier=800\n",
    "    )\n",
    "file = open(\"bqm.txt\", \"w\")\n",
    "file.write(str(bqm))\n",
    "file.close()"
   ]
  },
  {
   "attachments": {},
   "cell_type": "markdown",
   "metadata": {},
   "source": [
    "Removing 0 bias variables and couplers from BQM"
   ]
  },
  {
   "cell_type": "code",
   "execution_count": 71,
   "metadata": {},
   "outputs": [],
   "source": [
    "\n",
    "# c3 = [(x[f][p],1) for f in facilities for p in positions]\n",
    "# bqm.add_linear_equality_constraint(\n",
    "#     c3,\n",
    "#     constant=-13,\n",
    "#     lagrange_multiplier=100\n",
    "# )\n",
    "\n",
    "new_bqm = BinaryQuadraticModel(bqm.linear, {interaction: bias for interaction, bias in bqm.quadratic.items() if bias}, bqm.offset, bqm.vartype)"
   ]
  },
  {
   "attachments": {},
   "cell_type": "markdown",
   "metadata": {},
   "source": [
    "#running the solver"
   ]
  },
  {
   "cell_type": "code",
   "execution_count": 72,
   "metadata": {},
   "outputs": [],
   "source": [
    "sampler = LeapHybridSampler()\n",
    "sampleset = sampler.sample(new_bqm, time_limit = 20,)\n",
    "# sampler = neal.SimulatedAnnealingSampler()\n",
    "# sampleset = sampler.sample(new_bqm,num_reads = 20000)\n",
    "# sampler = EmbeddingComposite(DWaveSampler())\n",
    "# sampleset = sampler.sample(new_bqm, num_reads = 1000)\n"
   ]
  },
  {
   "attachments": {},
   "cell_type": "markdown",
   "metadata": {},
   "source": [
    "Printing Output Solutions"
   ]
  },
  {
   "cell_type": "code",
   "execution_count": null,
   "metadata": {},
   "outputs": [
    {
     "name": "stdout",
     "output_type": "stream",
     "text": [
      "[[0 0 0 ... 1 1 1]\n",
      " [0 0 0 ... 0 0 0]\n",
      " [0 0 0 ... 0 0 0]\n",
      " ...\n",
      " [0 0 0 ... 0 0 0]\n",
      " [1 0 0 ... 0 0 0]\n",
      " [1 1 0 ... 0 0 0]]\n",
      "\n",
      "Runtime =  42.51001167297363\n"
     ]
    },
    {
     "data": {
      "image/png": "[encoded data removed]",
      "text/plain": [
       "<Figure size 640x480 with 2 Axes>"
      ]
     },
     "metadata": {},
     "output_type": "display_data"
    }
   ],
   "source": [
    "printout = []\n",
    "for f in facilities:\n",
    "    printouttemp = []\n",
    "    for p in positions:\n",
    "        label = f'F{f}P{p}'\n",
    "        value = sampleset.first.sample[label]\n",
    "        printouttemp.append(value) \n",
    "    printout.append(printouttemp)\n",
    "print(np.array(printout))\n",
    "# print(\"\\n\",sampleset)\n",
    "\n",
    "\n",
    "layout = np.zeros((9,9))\n",
    "ctr = 1\n",
    "for i in printout:\n",
    "    for j in range(len(i)):\n",
    "        if i[j] == 1:\n",
    "            q = int(j/len(layout))\n",
    "            r = j%len(layout)\n",
    "            layout[q][r] = ctr\n",
    "    ctr+=1\n",
    "# print(layout)\n",
    "# print(\"fitness = \",fitness(layout))\n",
    "sns.heatmap(layout,annot = layout)\n",
    "\n",
    "end = time.time()\n",
    "\n",
    "print(\"\\nRuntime = \", end-start)\n",
    "\n"
   ]
  },
  {
   "cell_type": "code",
   "execution_count": null,
   "metadata": {},
   "outputs": [
    {
     "data": {
      "text/plain": [
       "<Axes: >"
      ]
     },
     "execution_count": 63,
     "metadata": {},
     "output_type": "execute_result"
    },
    {
     "data": {
      "image/png": "[encoded data removed]",
      "text/plain": [
       "<Figure size 640x480 with 2 Axes>"
      ]
     },
     "metadata": {},
     "output_type": "display_data"
    }
   ],
   "source": [
    "sns.heatmap(printout,annot = printout, vmax= 1, vmin=0 )\n"
   ]
  }
 ],
 "metadata": {
  "kernelspec": {
   "display_name": "Python 3",
   "language": "python",
   "name": "python3"
  },
  "language_info": {
   "codemirror_mode": {
    "name": "ipython",
    "version": 3
   },
   "file_extension": ".py",
   "mimetype": "text/x-python",
   "name": "python",
   "nbconvert_exporter": "python",
   "pygments_lexer": "ipython3",
   "version": "3.11.2"
  },
  "orig_nbformat": 4
 },
 "nbformat": 4,
 "nbformat_minor": 2
}
