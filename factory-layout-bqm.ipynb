{
 "cells": [
  {
   "cell_type": "code",
   "execution_count": null,
   "metadata": {},
   "outputs": [],
   "source": [
    "import concurrent.futures\n",
    "import time\n",
    "import sys\n",
    "from dimod import BinaryQuadraticModel\n",
    "from dwave.system import LeapHybridSampler,EmbeddingComposite,DWaveSampler \n",
    "import pandas as pd\n",
    "import numpy as np\n",
    "import seaborn as sns\n",
    "from distance_matrix_creator import *\n",
    "from neal import neal,SimulatedAnnealingSampler\n",
    "import matplotlib.pyplot as plt\n",
    "import dwave.inspector"
   ]
  },
  {
   "cell_type": "code",
   "execution_count": null,
   "metadata": {},
   "outputs": [],
   "source": [
    "# np.set_printoptions(suppress=True,threshold= sys.maxsize, linewidth=1000,formatter={'float_kind':'{}'.format, 'all': lambda x: \" {:.0f}. \".format(x)})\n",
    "np.set_printoptions(linewidth=1000, suppress=True,threshold= sys.maxsize)\n",
    "flow = pd.read_csv(\"csv_files/flowmatrixbqm.csv\", header = None)\n",
    "flow = (flow.to_numpy()/3)**5\n",
    "flow = np.round(flow)\n",
    "flow = np.triu(flow)\n",
    "flow = np.array(flow)\n",
    "print(flow,\"\\n\\n\")\n",
    "\n",
    "\n",
    "distance = squaredistmatrix(9)\n",
    "# distance = np.round(distance,decimals=3)\n",
    "distance = np.triu(np.array(distance))\n",
    "distance = (np.array(distance))#**3)/5\n",
    "distance = np.round(distance,decimals=3)\n",
    "print(distance)\n",
    "print(np.shape(distance))\n",
    "\n",
    "\n",
    "Nfacil = 13\n",
    "Npos = 81\n",
    "matrL =9 \n",
    "positions = []\n",
    "facilities = [i for i in range(Nfacil)]\n",
    "positions = [i for i in range(Npos)]\n",
    "\n",
    "print(\"Facilities = \", facilities)\n",
    "print(\"Positions = \",positions)\n",
    "\n",
    "facility_size = [10,4,7,4,2,1,14,2,14,3,1,3,2]"
   ]
  },
  {
   "attachments": {},
   "cell_type": "markdown",
   "metadata": {},
   "source": [
    "#Building a variable for each Machine"
   ]
  },
  {
   "cell_type": "code",
   "execution_count": null,
   "metadata": {},
   "outputs": [],
   "source": [
    "x = []\n",
    "for f in facilities:\n",
    "    x.append([f'F{f}P{p}' for p in positions])\n",
    "# print(np.array(x))"
   ]
  },
  {
   "attachments": {},
   "cell_type": "markdown",
   "metadata": {},
   "source": [
    "#Initialise BQM"
   ]
  },
  {
   "cell_type": "code",
   "execution_count": null,
   "metadata": {},
   "outputs": [],
   "source": [
    "bqm = BinaryQuadraticModel('BINARY')\n"
   ]
  },
  {
   "attachments": {},
   "cell_type": "markdown",
   "metadata": {},
   "source": [
    "#Objective function"
   ]
  },
  {
   "cell_type": "code",
   "execution_count": null,
   "metadata": {},
   "outputs": [],
   "source": [
    "for f in range(1,len(facilities)):\n",
    "    for f1 in range(f+1,len(facilities)):     \n",
    "        for p in range(len(positions)):\n",
    "            for p1 in range(p+1,len(positions)):\n",
    "                bqm.add_quadratic(x[f][p],x[f1][p1],distance[p][p1]*flow[f][f1])"
   ]
  },
  {
   "attachments": {},
   "cell_type": "markdown",
   "metadata": {},
   "source": [
    "#constraint 1: only 1 machine is placed per position"
   ]
  },
  {
   "cell_type": "code",
   "execution_count": null,
   "metadata": {},
   "outputs": [],
   "source": [
    "for p in positions:\n",
    "    c1 = [(x[f][p],1) for f in facilities]\n",
    "    bqm.add_linear_inequality_constraint(\n",
    "        c1,\n",
    "        ub = 1,\n",
    "        lb = 0,\n",
    "        lagrange_multiplier=200,\n",
    "        label = 'c1_posi_' + str(p),\n",
    "    )"
   ]
  },
  {
   "attachments": {},
   "cell_type": "markdown",
   "metadata": {},
   "source": [
    "#Constraint 2: Each facility is given correct size"
   ]
  },
  {
   "cell_type": "code",
   "execution_count": null,
   "metadata": {},
   "outputs": [],
   "source": [
    "for f in facilities:\n",
    "    c2 = [(x[f][p],1) for p in positions]\n",
    "    bqm.add_linear_equality_constraint(\n",
    "        c2,\n",
    "        constant=-1*facility_size[f],\n",
    "        lagrange_multiplier=300,\n",
    "        # label = \"c2_facil_\" + str(f)\n",
    "    )"
   ]
  },
  {
   "attachments": {},
   "cell_type": "markdown",
   "metadata": {},
   "source": [
    "Removing 0 bias variables and couplers from BQM"
   ]
  },
  {
   "cell_type": "code",
   "execution_count": null,
   "metadata": {},
   "outputs": [],
   "source": [
    "new_bqm = BinaryQuadraticModel(bqm.linear, {interaction: bias for interaction, bias in bqm.quadratic.items() if bias}, bqm.offset, bqm.vartype)\n",
    "file = open(\"txt_files/bqm.txt\", \"w\")\n",
    "file.write(str(bqm))\n",
    "file.close()\n",
    "\n",
    "file2 = open(\"txt_files/new_bqm.txt\", \"w\")\n",
    "file2.write(str(new_bqm))\n",
    "file2.close()"
   ]
  },
  {
   "attachments": {},
   "cell_type": "markdown",
   "metadata": {},
   "source": [
    "#running the solver"
   ]
  },
  {
   "cell_type": "code",
   "execution_count": null,
   "metadata": {},
   "outputs": [],
   "source": [
    "def solver(numreads, timelimit,sampler):\n",
    "    print(\"running solver\")\n",
    "    \n",
    "   \n",
    "    sampleset = sampler.sample(new_bqm, time_limit = timelimit,)\n",
    "    # sampler = neal.SimulatedAnnealingSampler()\n",
    "    # sampler = EmbeddingComposite(DWaveSampler())\n",
    "    # sampleset = sampler.sample(new_bqm,num_reads = numreads)\n",
    "    \n",
    "    return sampleset\n",
    "\n",
    "sampler = LeapHybridSampler()\n",
    "numreads = 200 #number of samples for simulated annealer\n",
    "numthreads = 1 #number of parallel annealers to run\n",
    "timelimit = 10 #time limit for hybrid sampler\n",
    "samplesets = []\n",
    "\n",
    "t1 = time.time()\n",
    "with concurrent.futures.ThreadPoolExecutor() as executor:\n",
    "\n",
    "    results = [executor.submit(solver, numreads,timelimit,sampler) for _ in range(numthreads)]\n",
    "\n",
    "    for f in concurrent.futures.as_completed(results):\n",
    "        samplesets.append(f.result())\n",
    "        \n",
    "\n",
    "if __name__ == '__solver__':\n",
    "    solver(numreads,timelimit)\n",
    "\n",
    "t2 = time.time()\n",
    "print(f'solver finished in {t2-t1} seconds') "
   ]
  },
  {
   "attachments": {},
   "cell_type": "markdown",
   "metadata": {},
   "source": [
    "Printing Output Solutions"
   ]
  },
  {
   "cell_type": "code",
   "execution_count": null,
   "metadata": {},
   "outputs": [],
   "source": [
    "t3 = time.time()\n",
    "\n",
    "### Extracting best run from all samplesets\n",
    "energies = [sampleset.first.energy for sampleset in samplesets]\n",
    "print(energies)\n",
    "sampleset = samplesets[energies.index(np.min(energies))]\n",
    "print(sampleset.first.sample)\n",
    "\n",
    "# dwave.inspector.show_bqm_sampleset(bqm=new_bqm,sampleset=sampleset,sampler=sampler,embedding_context=None,warnings=None,params=None)\n",
    "\n",
    "### Post Processing the input matrix to convert to a more readable cartesian layout\n",
    "printout = []\n",
    "for f in facilities:\n",
    "    printouttemp = []\n",
    "    for p in positions:\n",
    "        label = f'F{f}P{p}'\n",
    "        value = sampleset.first.sample[label]\n",
    "        printouttemp.append(value) \n",
    "    printout.append(printouttemp)\n",
    "print(printout)\n",
    "layout = np.zeros((matrL,matrL))\n",
    "ctr = 1\n",
    "for i in printout:\n",
    "    for j in range(len(i)):\n",
    "        if i[j] == 1:\n",
    "            q = int(j/len(layout))\n",
    "            r = j%len(layout)\n",
    "            layout[q][r] = ctr\n",
    "    ctr+=1\n",
    "\n",
    "### Plotting the Layout using Heatmap\n",
    "fig, ax = plt.subplots(figsize=(9, 10))\n",
    "sns.heatmap(layout,annot = layout, vmin = 0, vmax = len(facilities)).set(title = \"Final Layout\")\n",
    "\n",
    "### Check to ensure all facilities are assigned correct sizes\n",
    "correct_size = True\n",
    "printout = np.array(printout)\n",
    "for i in range(len(printout)):\n",
    "    true_size = facility_size[i]\n",
    "    calc_size = np.sum(printout[i])\n",
    "    if true_size == calc_size:\n",
    "        print(\"Facility \", i+1, \"\\t correct size of\", true_size, \"\\n\")\n",
    "    else:\n",
    "        print(\"Facility \", i+1, \"\\t wrong size.\", \"True Size = \", true_size, \"Calc size = \", calc_size,\"\\n\")\n",
    "        correct_size = False\n",
    "if correct_size == True:\n",
    "    print(\"all facilities Correct Size\")\n",
    "\n",
    "### Check to ensure same position is not assigned to two facilities\n",
    "ctr1 = 0\n",
    "for i in range(len(printout.T)):\n",
    "    if np.sum(printout.T[i]) >1:\n",
    "        print(\"Position \", i+1, \" = Overlapped\")\n",
    "    else:\n",
    "        ctr1+=1\n",
    "\n",
    "if ctr1 == 81:\n",
    "    print(\"No Overlaps\")\n",
    "\n",
    "fig, ax = plt.subplots(figsize=(17, 9))\n",
    "sns.heatmap(printout,annot = printout, vmax= 1, vmin=0 ).set(title = \"Final Matrix\")\n",
    "\n",
    "t4 = time.time()\n",
    "print(f'postprocess finished in {t4-t3} seconds') "
   ]
  }
 ],
 "metadata": {
  "kernelspec": {
   "display_name": "Python 3",
   "language": "python",
   "name": "python3"
  },
  "language_info": {
   "codemirror_mode": {
    "name": "ipython",
    "version": 3
   },
   "file_extension": ".py",
   "mimetype": "text/x-python",
   "name": "python",
   "nbconvert_exporter": "python",
   "pygments_lexer": "ipython3",
   "version": "3.10.4"
  },
  "orig_nbformat": 4
 },
 "nbformat": 4,
 "nbformat_minor": 2
}
